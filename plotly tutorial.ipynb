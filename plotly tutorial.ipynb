{
 "cells": [
  {
   "cell_type": "code",
   "execution_count": 44,
   "metadata": {},
   "outputs": [],
   "source": [
    "import pandas as pd\n",
    "import numpy as np\n",
    "import random\n",
    "import plotly.graph_objects as go"
   ]
  },
  {
   "cell_type": "code",
   "execution_count": 45,
   "metadata": {},
   "outputs": [],
   "source": [
    "df = pd.DataFrame(np.random.randint(0,20,size=(20, 4)), columns=list('ABCD'))"
   ]
  },
  {
   "cell_type": "code",
   "execution_count": 46,
   "metadata": {},
   "outputs": [],
   "source": [
    "min_date = pd.to_datetime('2020-01-01')\n",
    "max_date = pd.to_datetime('2020-12-31')\n",
    "\n",
    "d = (max_date - min_date).days + 1\n",
    "\n",
    "df['date'] = min_date + pd.to_timedelta(np.random.randint(d,size=20), unit='d')"
   ]
  },
  {
   "cell_type": "code",
   "execution_count": 47,
   "metadata": {},
   "outputs": [
    {
     "name": "stdout",
     "output_type": "stream",
     "text": [
      "     A   B   C   D       date\n",
      "0    5   8  19   1 2020-05-10\n",
      "1   14   2   4   0 2020-08-01\n",
      "2    5  17   7  19 2020-10-30\n",
      "3    0   5   2   1 2020-05-26\n",
      "4    7  16  11   1 2020-05-31\n",
      "5    0   5  13  12 2020-06-22\n",
      "6    2  13  17  16 2020-05-13\n",
      "7    2   4   7   0 2020-08-20\n",
      "8   17   3   8  18 2020-09-15\n",
      "9    2  19   6  17 2020-02-06\n",
      "10  19   5   7   4 2020-12-28\n",
      "11  16   6   1   2 2020-01-21\n",
      "12   7  12  17   6 2020-01-14\n",
      "13  18  11  11   4 2020-12-13\n",
      "14  10  13   7   4 2020-04-12\n",
      "15  18   0  16   3 2020-05-23\n",
      "16  18  11  18   9 2020-04-15\n",
      "17  12  17  19   9 2020-04-21\n",
      "18   1  19   9  11 2020-01-08\n",
      "19  11  11  13   2 2020-01-02\n"
     ]
    }
   ],
   "source": [
    "print(df)"
   ]
  },
  {
   "cell_type": "code",
   "execution_count": 48,
   "metadata": {},
   "outputs": [],
   "source": [
    "df['date']=pd.to_datetime(df['date'])\n",
    "df = df.sort_values(by='date') \n"
   ]
  },
  {
   "cell_type": "code",
   "execution_count": 49,
   "metadata": {},
   "outputs": [
    {
     "name": "stdout",
     "output_type": "stream",
     "text": [
      "     A   B   C   D       date\n",
      "19  11  11  13   2 2020-01-02\n",
      "18   1  19   9  11 2020-01-08\n",
      "12   7  12  17   6 2020-01-14\n",
      "11  16   6   1   2 2020-01-21\n",
      "9    2  19   6  17 2020-02-06\n",
      "14  10  13   7   4 2020-04-12\n",
      "16  18  11  18   9 2020-04-15\n",
      "17  12  17  19   9 2020-04-21\n",
      "0    5   8  19   1 2020-05-10\n",
      "6    2  13  17  16 2020-05-13\n",
      "15  18   0  16   3 2020-05-23\n",
      "3    0   5   2   1 2020-05-26\n",
      "4    7  16  11   1 2020-05-31\n",
      "5    0   5  13  12 2020-06-22\n",
      "1   14   2   4   0 2020-08-01\n",
      "7    2   4   7   0 2020-08-20\n",
      "8   17   3   8  18 2020-09-15\n",
      "2    5  17   7  19 2020-10-30\n",
      "13  18  11  11   4 2020-12-13\n",
      "10  19   5   7   4 2020-12-28\n"
     ]
    }
   ],
   "source": [
    "print(df)"
   ]
  },
  {
   "cell_type": "code",
   "execution_count": 50,
   "metadata": {},
   "outputs": [],
   "source": [
    "event_type = ['acceleration','braking','start','stop']\n",
    "df['even_type'] = np.random.choice(event_type, 20, p=[0.5, 0.1, 0.1, 0.3])"
   ]
  },
  {
   "cell_type": "code",
   "execution_count": 51,
   "metadata": {},
   "outputs": [
    {
     "name": "stdout",
     "output_type": "stream",
     "text": [
      "     A   B   C   D       date     even_type\n",
      "19  11  11  13   2 2020-01-02  acceleration\n",
      "18   1  19   9  11 2020-01-08         start\n",
      "12   7  12  17   6 2020-01-14       braking\n",
      "11  16   6   1   2 2020-01-21          stop\n",
      "9    2  19   6  17 2020-02-06  acceleration\n",
      "14  10  13   7   4 2020-04-12  acceleration\n",
      "16  18  11  18   9 2020-04-15          stop\n",
      "17  12  17  19   9 2020-04-21         start\n",
      "0    5   8  19   1 2020-05-10  acceleration\n",
      "6    2  13  17  16 2020-05-13          stop\n",
      "15  18   0  16   3 2020-05-23  acceleration\n",
      "3    0   5   2   1 2020-05-26          stop\n",
      "4    7  16  11   1 2020-05-31  acceleration\n",
      "5    0   5  13  12 2020-06-22  acceleration\n",
      "1   14   2   4   0 2020-08-01          stop\n",
      "7    2   4   7   0 2020-08-20          stop\n",
      "8   17   3   8  18 2020-09-15       braking\n",
      "2    5  17   7  19 2020-10-30       braking\n",
      "13  18  11  11   4 2020-12-13  acceleration\n",
      "10  19   5   7   4 2020-12-28          stop\n"
     ]
    }
   ],
   "source": [
    "print(df)"
   ]
  },
  {
   "cell_type": "code",
   "execution_count": 55,
   "metadata": {},
   "outputs": [
    {
     "data": {
      "application/vnd.plotly.v1+json": {
       "config": {
        "plotlyServerURL": "https://plot.ly"
       },
       "data": [
        {
         "name": "A",
         "text": [
          "acceleration",
          "start",
          "braking",
          "stop",
          "acceleration",
          "acceleration",
          "stop",
          "start",
          "acceleration",
          "stop",
          "acceleration",
          "stop",
          "acceleration",
          "acceleration",
          "stop",
          "stop",
          "braking",
          "braking",
          "acceleration",
          "stop"
         ],
         "type": "scatter",
         "x": [
          "2020-01-02T00:00:00",
          "2020-01-08T00:00:00",
          "2020-01-14T00:00:00",
          "2020-01-21T00:00:00",
          "2020-02-06T00:00:00",
          "2020-04-12T00:00:00",
          "2020-04-15T00:00:00",
          "2020-04-21T00:00:00",
          "2020-05-10T00:00:00",
          "2020-05-13T00:00:00",
          "2020-05-23T00:00:00",
          "2020-05-26T00:00:00",
          "2020-05-31T00:00:00",
          "2020-06-22T00:00:00",
          "2020-08-01T00:00:00",
          "2020-08-20T00:00:00",
          "2020-09-15T00:00:00",
          "2020-10-30T00:00:00",
          "2020-12-13T00:00:00",
          "2020-12-28T00:00:00"
         ],
         "y": [
          11,
          1,
          7,
          16,
          2,
          10,
          18,
          12,
          5,
          2,
          18,
          0,
          7,
          0,
          14,
          2,
          17,
          5,
          18,
          19
         ]
        },
        {
         "name": "B",
         "text": [
          "acceleration",
          "start",
          "braking",
          "stop",
          "acceleration",
          "acceleration",
          "stop",
          "start",
          "acceleration",
          "stop",
          "acceleration",
          "stop",
          "acceleration",
          "acceleration",
          "stop",
          "stop",
          "braking",
          "braking",
          "acceleration",
          "stop"
         ],
         "type": "scatter",
         "x": [
          "2020-01-02T00:00:00",
          "2020-01-08T00:00:00",
          "2020-01-14T00:00:00",
          "2020-01-21T00:00:00",
          "2020-02-06T00:00:00",
          "2020-04-12T00:00:00",
          "2020-04-15T00:00:00",
          "2020-04-21T00:00:00",
          "2020-05-10T00:00:00",
          "2020-05-13T00:00:00",
          "2020-05-23T00:00:00",
          "2020-05-26T00:00:00",
          "2020-05-31T00:00:00",
          "2020-06-22T00:00:00",
          "2020-08-01T00:00:00",
          "2020-08-20T00:00:00",
          "2020-09-15T00:00:00",
          "2020-10-30T00:00:00",
          "2020-12-13T00:00:00",
          "2020-12-28T00:00:00"
         ],
         "y": [
          11,
          19,
          12,
          6,
          19,
          13,
          11,
          17,
          8,
          13,
          0,
          5,
          16,
          5,
          2,
          4,
          3,
          17,
          11,
          5
         ]
        },
        {
         "name": "C",
         "text": [
          "acceleration",
          "start",
          "braking",
          "stop",
          "acceleration",
          "acceleration",
          "stop",
          "start",
          "acceleration",
          "stop",
          "acceleration",
          "stop",
          "acceleration",
          "acceleration",
          "stop",
          "stop",
          "braking",
          "braking",
          "acceleration",
          "stop"
         ],
         "type": "scatter",
         "x": [
          "2020-01-02T00:00:00",
          "2020-01-08T00:00:00",
          "2020-01-14T00:00:00",
          "2020-01-21T00:00:00",
          "2020-02-06T00:00:00",
          "2020-04-12T00:00:00",
          "2020-04-15T00:00:00",
          "2020-04-21T00:00:00",
          "2020-05-10T00:00:00",
          "2020-05-13T00:00:00",
          "2020-05-23T00:00:00",
          "2020-05-26T00:00:00",
          "2020-05-31T00:00:00",
          "2020-06-22T00:00:00",
          "2020-08-01T00:00:00",
          "2020-08-20T00:00:00",
          "2020-09-15T00:00:00",
          "2020-10-30T00:00:00",
          "2020-12-13T00:00:00",
          "2020-12-28T00:00:00"
         ],
         "y": [
          13,
          9,
          17,
          1,
          6,
          7,
          18,
          19,
          19,
          17,
          16,
          2,
          11,
          13,
          4,
          7,
          8,
          7,
          11,
          7
         ]
        },
        {
         "name": "D",
         "text": [
          "acceleration",
          "start",
          "braking",
          "stop",
          "acceleration",
          "acceleration",
          "stop",
          "start",
          "acceleration",
          "stop",
          "acceleration",
          "stop",
          "acceleration",
          "acceleration",
          "stop",
          "stop",
          "braking",
          "braking",
          "acceleration",
          "stop"
         ],
         "type": "scatter",
         "x": [
          "2020-01-02T00:00:00",
          "2020-01-08T00:00:00",
          "2020-01-14T00:00:00",
          "2020-01-21T00:00:00",
          "2020-02-06T00:00:00",
          "2020-04-12T00:00:00",
          "2020-04-15T00:00:00",
          "2020-04-21T00:00:00",
          "2020-05-10T00:00:00",
          "2020-05-13T00:00:00",
          "2020-05-23T00:00:00",
          "2020-05-26T00:00:00",
          "2020-05-31T00:00:00",
          "2020-06-22T00:00:00",
          "2020-08-01T00:00:00",
          "2020-08-20T00:00:00",
          "2020-09-15T00:00:00",
          "2020-10-30T00:00:00",
          "2020-12-13T00:00:00",
          "2020-12-28T00:00:00"
         ],
         "y": [
          2,
          11,
          6,
          2,
          17,
          4,
          9,
          9,
          1,
          16,
          3,
          1,
          1,
          12,
          0,
          0,
          18,
          19,
          4,
          4
         ]
        }
       ],
       "layout": {
        "shapes": [
         {
          "fillcolor": "#08ff00",
          "layer": "below",
          "line": {
           "width": 0
          },
          "opacity": 0.2,
          "type": "rect",
          "x0": "2020-01-02T00:00:00",
          "x1": "2020-01-08T00:00:00",
          "xref": "x",
          "y0": 0,
          "y1": 1,
          "yref": "y domain"
         },
         {
          "fillcolor": "#2593ff",
          "layer": "below",
          "line": {
           "width": 0
          },
          "opacity": 0.2,
          "type": "rect",
          "x0": "2020-01-08T00:00:00",
          "x1": "2020-01-14T00:00:00",
          "xref": "x",
          "y0": 0,
          "y1": 1,
          "yref": "y domain"
         },
         {
          "fillcolor": "#f8432d",
          "layer": "below",
          "line": {
           "width": 0
          },
          "opacity": 0.2,
          "type": "rect",
          "x0": "2020-01-14T00:00:00",
          "x1": "2020-01-21T00:00:00",
          "xref": "x",
          "y0": 0,
          "y1": 1,
          "yref": "y domain"
         },
         {
          "fillcolor": "#fc6990",
          "layer": "below",
          "line": {
           "width": 0
          },
          "opacity": 0.2,
          "type": "rect",
          "x0": "2020-01-21T00:00:00",
          "x1": "2020-02-06T00:00:00",
          "xref": "x",
          "y0": 0,
          "y1": 1,
          "yref": "y domain"
         },
         {
          "fillcolor": "#08ff00",
          "layer": "below",
          "line": {
           "width": 0
          },
          "opacity": 0.2,
          "type": "rect",
          "x0": "2020-02-06T00:00:00",
          "x1": "2020-04-15T00:00:00",
          "xref": "x",
          "y0": 0,
          "y1": 1,
          "yref": "y domain"
         },
         {
          "fillcolor": "#fc6990",
          "layer": "below",
          "line": {
           "width": 0
          },
          "opacity": 0.2,
          "type": "rect",
          "x0": "2020-04-15T00:00:00",
          "x1": "2020-04-21T00:00:00",
          "xref": "x",
          "y0": 0,
          "y1": 1,
          "yref": "y domain"
         },
         {
          "fillcolor": "#2593ff",
          "layer": "below",
          "line": {
           "width": 0
          },
          "opacity": 0.2,
          "type": "rect",
          "x0": "2020-04-21T00:00:00",
          "x1": "2020-05-10T00:00:00",
          "xref": "x",
          "y0": 0,
          "y1": 1,
          "yref": "y domain"
         },
         {
          "fillcolor": "#08ff00",
          "layer": "below",
          "line": {
           "width": 0
          },
          "opacity": 0.2,
          "type": "rect",
          "x0": "2020-05-10T00:00:00",
          "x1": "2020-05-13T00:00:00",
          "xref": "x",
          "y0": 0,
          "y1": 1,
          "yref": "y domain"
         },
         {
          "fillcolor": "#fc6990",
          "layer": "below",
          "line": {
           "width": 0
          },
          "opacity": 0.2,
          "type": "rect",
          "x0": "2020-05-13T00:00:00",
          "x1": "2020-05-23T00:00:00",
          "xref": "x",
          "y0": 0,
          "y1": 1,
          "yref": "y domain"
         },
         {
          "fillcolor": "#08ff00",
          "layer": "below",
          "line": {
           "width": 0
          },
          "opacity": 0.2,
          "type": "rect",
          "x0": "2020-05-23T00:00:00",
          "x1": "2020-05-26T00:00:00",
          "xref": "x",
          "y0": 0,
          "y1": 1,
          "yref": "y domain"
         },
         {
          "fillcolor": "#fc6990",
          "layer": "below",
          "line": {
           "width": 0
          },
          "opacity": 0.2,
          "type": "rect",
          "x0": "2020-05-26T00:00:00",
          "x1": "2020-05-31T00:00:00",
          "xref": "x",
          "y0": 0,
          "y1": 1,
          "yref": "y domain"
         },
         {
          "fillcolor": "#08ff00",
          "layer": "below",
          "line": {
           "width": 0
          },
          "opacity": 0.2,
          "type": "rect",
          "x0": "2020-05-31T00:00:00",
          "x1": "2020-08-01T00:00:00",
          "xref": "x",
          "y0": 0,
          "y1": 1,
          "yref": "y domain"
         },
         {
          "fillcolor": "#fc6990",
          "layer": "below",
          "line": {
           "width": 0
          },
          "opacity": 0.2,
          "type": "rect",
          "x0": "2020-08-01T00:00:00",
          "x1": "2020-09-15T00:00:00",
          "xref": "x",
          "y0": 0,
          "y1": 1,
          "yref": "y domain"
         },
         {
          "fillcolor": "#f8432d",
          "layer": "below",
          "line": {
           "width": 0
          },
          "opacity": 0.2,
          "type": "rect",
          "x0": "2020-09-15T00:00:00",
          "x1": "2020-12-13T00:00:00",
          "xref": "x",
          "y0": 0,
          "y1": 1,
          "yref": "y domain"
         },
         {
          "fillcolor": "#08ff00",
          "layer": "below",
          "line": {
           "width": 0
          },
          "opacity": 0.2,
          "type": "rect",
          "x0": "2020-12-13T00:00:00",
          "x1": "2020-12-28T00:00:00",
          "xref": "x",
          "y0": 0,
          "y1": 1,
          "yref": "y domain"
         },
         {
          "fillcolor": "#fc6990",
          "layer": "below",
          "line": {
           "width": 0
          },
          "opacity": 0.2,
          "type": "rect",
          "x0": "2020-12-28T00:00:00",
          "x1": "2020-12-28T00:00:00",
          "xref": "x",
          "y0": 0,
          "y1": 1,
          "yref": "y domain"
         }
        ],
        "template": {
         "data": {
          "bar": [
           {
            "error_x": {
             "color": "#2a3f5f"
            },
            "error_y": {
             "color": "#2a3f5f"
            },
            "marker": {
             "line": {
              "color": "#E5ECF6",
              "width": 0.5
             }
            },
            "type": "bar"
           }
          ],
          "barpolar": [
           {
            "marker": {
             "line": {
              "color": "#E5ECF6",
              "width": 0.5
             }
            },
            "type": "barpolar"
           }
          ],
          "carpet": [
           {
            "aaxis": {
             "endlinecolor": "#2a3f5f",
             "gridcolor": "white",
             "linecolor": "white",
             "minorgridcolor": "white",
             "startlinecolor": "#2a3f5f"
            },
            "baxis": {
             "endlinecolor": "#2a3f5f",
             "gridcolor": "white",
             "linecolor": "white",
             "minorgridcolor": "white",
             "startlinecolor": "#2a3f5f"
            },
            "type": "carpet"
           }
          ],
          "choropleth": [
           {
            "colorbar": {
             "outlinewidth": 0,
             "ticks": ""
            },
            "type": "choropleth"
           }
          ],
          "contour": [
           {
            "colorbar": {
             "outlinewidth": 0,
             "ticks": ""
            },
            "colorscale": [
             [
              0,
              "#0d0887"
             ],
             [
              0.1111111111111111,
              "#46039f"
             ],
             [
              0.2222222222222222,
              "#7201a8"
             ],
             [
              0.3333333333333333,
              "#9c179e"
             ],
             [
              0.4444444444444444,
              "#bd3786"
             ],
             [
              0.5555555555555556,
              "#d8576b"
             ],
             [
              0.6666666666666666,
              "#ed7953"
             ],
             [
              0.7777777777777778,
              "#fb9f3a"
             ],
             [
              0.8888888888888888,
              "#fdca26"
             ],
             [
              1,
              "#f0f921"
             ]
            ],
            "type": "contour"
           }
          ],
          "contourcarpet": [
           {
            "colorbar": {
             "outlinewidth": 0,
             "ticks": ""
            },
            "type": "contourcarpet"
           }
          ],
          "heatmap": [
           {
            "colorbar": {
             "outlinewidth": 0,
             "ticks": ""
            },
            "colorscale": [
             [
              0,
              "#0d0887"
             ],
             [
              0.1111111111111111,
              "#46039f"
             ],
             [
              0.2222222222222222,
              "#7201a8"
             ],
             [
              0.3333333333333333,
              "#9c179e"
             ],
             [
              0.4444444444444444,
              "#bd3786"
             ],
             [
              0.5555555555555556,
              "#d8576b"
             ],
             [
              0.6666666666666666,
              "#ed7953"
             ],
             [
              0.7777777777777778,
              "#fb9f3a"
             ],
             [
              0.8888888888888888,
              "#fdca26"
             ],
             [
              1,
              "#f0f921"
             ]
            ],
            "type": "heatmap"
           }
          ],
          "heatmapgl": [
           {
            "colorbar": {
             "outlinewidth": 0,
             "ticks": ""
            },
            "colorscale": [
             [
              0,
              "#0d0887"
             ],
             [
              0.1111111111111111,
              "#46039f"
             ],
             [
              0.2222222222222222,
              "#7201a8"
             ],
             [
              0.3333333333333333,
              "#9c179e"
             ],
             [
              0.4444444444444444,
              "#bd3786"
             ],
             [
              0.5555555555555556,
              "#d8576b"
             ],
             [
              0.6666666666666666,
              "#ed7953"
             ],
             [
              0.7777777777777778,
              "#fb9f3a"
             ],
             [
              0.8888888888888888,
              "#fdca26"
             ],
             [
              1,
              "#f0f921"
             ]
            ],
            "type": "heatmapgl"
           }
          ],
          "histogram": [
           {
            "marker": {
             "colorbar": {
              "outlinewidth": 0,
              "ticks": ""
             }
            },
            "type": "histogram"
           }
          ],
          "histogram2d": [
           {
            "colorbar": {
             "outlinewidth": 0,
             "ticks": ""
            },
            "colorscale": [
             [
              0,
              "#0d0887"
             ],
             [
              0.1111111111111111,
              "#46039f"
             ],
             [
              0.2222222222222222,
              "#7201a8"
             ],
             [
              0.3333333333333333,
              "#9c179e"
             ],
             [
              0.4444444444444444,
              "#bd3786"
             ],
             [
              0.5555555555555556,
              "#d8576b"
             ],
             [
              0.6666666666666666,
              "#ed7953"
             ],
             [
              0.7777777777777778,
              "#fb9f3a"
             ],
             [
              0.8888888888888888,
              "#fdca26"
             ],
             [
              1,
              "#f0f921"
             ]
            ],
            "type": "histogram2d"
           }
          ],
          "histogram2dcontour": [
           {
            "colorbar": {
             "outlinewidth": 0,
             "ticks": ""
            },
            "colorscale": [
             [
              0,
              "#0d0887"
             ],
             [
              0.1111111111111111,
              "#46039f"
             ],
             [
              0.2222222222222222,
              "#7201a8"
             ],
             [
              0.3333333333333333,
              "#9c179e"
             ],
             [
              0.4444444444444444,
              "#bd3786"
             ],
             [
              0.5555555555555556,
              "#d8576b"
             ],
             [
              0.6666666666666666,
              "#ed7953"
             ],
             [
              0.7777777777777778,
              "#fb9f3a"
             ],
             [
              0.8888888888888888,
              "#fdca26"
             ],
             [
              1,
              "#f0f921"
             ]
            ],
            "type": "histogram2dcontour"
           }
          ],
          "mesh3d": [
           {
            "colorbar": {
             "outlinewidth": 0,
             "ticks": ""
            },
            "type": "mesh3d"
           }
          ],
          "parcoords": [
           {
            "line": {
             "colorbar": {
              "outlinewidth": 0,
              "ticks": ""
             }
            },
            "type": "parcoords"
           }
          ],
          "pie": [
           {
            "automargin": true,
            "type": "pie"
           }
          ],
          "scatter": [
           {
            "marker": {
             "colorbar": {
              "outlinewidth": 0,
              "ticks": ""
             }
            },
            "type": "scatter"
           }
          ],
          "scatter3d": [
           {
            "line": {
             "colorbar": {
              "outlinewidth": 0,
              "ticks": ""
             }
            },
            "marker": {
             "colorbar": {
              "outlinewidth": 0,
              "ticks": ""
             }
            },
            "type": "scatter3d"
           }
          ],
          "scattercarpet": [
           {
            "marker": {
             "colorbar": {
              "outlinewidth": 0,
              "ticks": ""
             }
            },
            "type": "scattercarpet"
           }
          ],
          "scattergeo": [
           {
            "marker": {
             "colorbar": {
              "outlinewidth": 0,
              "ticks": ""
             }
            },
            "type": "scattergeo"
           }
          ],
          "scattergl": [
           {
            "marker": {
             "colorbar": {
              "outlinewidth": 0,
              "ticks": ""
             }
            },
            "type": "scattergl"
           }
          ],
          "scattermapbox": [
           {
            "marker": {
             "colorbar": {
              "outlinewidth": 0,
              "ticks": ""
             }
            },
            "type": "scattermapbox"
           }
          ],
          "scatterpolar": [
           {
            "marker": {
             "colorbar": {
              "outlinewidth": 0,
              "ticks": ""
             }
            },
            "type": "scatterpolar"
           }
          ],
          "scatterpolargl": [
           {
            "marker": {
             "colorbar": {
              "outlinewidth": 0,
              "ticks": ""
             }
            },
            "type": "scatterpolargl"
           }
          ],
          "scatterternary": [
           {
            "marker": {
             "colorbar": {
              "outlinewidth": 0,
              "ticks": ""
             }
            },
            "type": "scatterternary"
           }
          ],
          "surface": [
           {
            "colorbar": {
             "outlinewidth": 0,
             "ticks": ""
            },
            "colorscale": [
             [
              0,
              "#0d0887"
             ],
             [
              0.1111111111111111,
              "#46039f"
             ],
             [
              0.2222222222222222,
              "#7201a8"
             ],
             [
              0.3333333333333333,
              "#9c179e"
             ],
             [
              0.4444444444444444,
              "#bd3786"
             ],
             [
              0.5555555555555556,
              "#d8576b"
             ],
             [
              0.6666666666666666,
              "#ed7953"
             ],
             [
              0.7777777777777778,
              "#fb9f3a"
             ],
             [
              0.8888888888888888,
              "#fdca26"
             ],
             [
              1,
              "#f0f921"
             ]
            ],
            "type": "surface"
           }
          ],
          "table": [
           {
            "cells": {
             "fill": {
              "color": "#EBF0F8"
             },
             "line": {
              "color": "white"
             }
            },
            "header": {
             "fill": {
              "color": "#C8D4E3"
             },
             "line": {
              "color": "white"
             }
            },
            "type": "table"
           }
          ]
         },
         "layout": {
          "annotationdefaults": {
           "arrowcolor": "#2a3f5f",
           "arrowhead": 0,
           "arrowwidth": 1
          },
          "coloraxis": {
           "colorbar": {
            "outlinewidth": 0,
            "ticks": ""
           }
          },
          "colorscale": {
           "diverging": [
            [
             0,
             "#8e0152"
            ],
            [
             0.1,
             "#c51b7d"
            ],
            [
             0.2,
             "#de77ae"
            ],
            [
             0.3,
             "#f1b6da"
            ],
            [
             0.4,
             "#fde0ef"
            ],
            [
             0.5,
             "#f7f7f7"
            ],
            [
             0.6,
             "#e6f5d0"
            ],
            [
             0.7,
             "#b8e186"
            ],
            [
             0.8,
             "#7fbc41"
            ],
            [
             0.9,
             "#4d9221"
            ],
            [
             1,
             "#276419"
            ]
           ],
           "sequential": [
            [
             0,
             "#0d0887"
            ],
            [
             0.1111111111111111,
             "#46039f"
            ],
            [
             0.2222222222222222,
             "#7201a8"
            ],
            [
             0.3333333333333333,
             "#9c179e"
            ],
            [
             0.4444444444444444,
             "#bd3786"
            ],
            [
             0.5555555555555556,
             "#d8576b"
            ],
            [
             0.6666666666666666,
             "#ed7953"
            ],
            [
             0.7777777777777778,
             "#fb9f3a"
            ],
            [
             0.8888888888888888,
             "#fdca26"
            ],
            [
             1,
             "#f0f921"
            ]
           ],
           "sequentialminus": [
            [
             0,
             "#0d0887"
            ],
            [
             0.1111111111111111,
             "#46039f"
            ],
            [
             0.2222222222222222,
             "#7201a8"
            ],
            [
             0.3333333333333333,
             "#9c179e"
            ],
            [
             0.4444444444444444,
             "#bd3786"
            ],
            [
             0.5555555555555556,
             "#d8576b"
            ],
            [
             0.6666666666666666,
             "#ed7953"
            ],
            [
             0.7777777777777778,
             "#fb9f3a"
            ],
            [
             0.8888888888888888,
             "#fdca26"
            ],
            [
             1,
             "#f0f921"
            ]
           ]
          },
          "colorway": [
           "#636efa",
           "#EF553B",
           "#00cc96",
           "#ab63fa",
           "#FFA15A",
           "#19d3f3",
           "#FF6692",
           "#B6E880",
           "#FF97FF",
           "#FECB52"
          ],
          "font": {
           "color": "#2a3f5f"
          },
          "geo": {
           "bgcolor": "white",
           "lakecolor": "white",
           "landcolor": "#E5ECF6",
           "showlakes": true,
           "showland": true,
           "subunitcolor": "white"
          },
          "hoverlabel": {
           "align": "left"
          },
          "hovermode": "closest",
          "mapbox": {
           "style": "light"
          },
          "paper_bgcolor": "white",
          "plot_bgcolor": "#E5ECF6",
          "polar": {
           "angularaxis": {
            "gridcolor": "white",
            "linecolor": "white",
            "ticks": ""
           },
           "bgcolor": "#E5ECF6",
           "radialaxis": {
            "gridcolor": "white",
            "linecolor": "white",
            "ticks": ""
           }
          },
          "scene": {
           "xaxis": {
            "backgroundcolor": "#E5ECF6",
            "gridcolor": "white",
            "gridwidth": 2,
            "linecolor": "white",
            "showbackground": true,
            "ticks": "",
            "zerolinecolor": "white"
           },
           "yaxis": {
            "backgroundcolor": "#E5ECF6",
            "gridcolor": "white",
            "gridwidth": 2,
            "linecolor": "white",
            "showbackground": true,
            "ticks": "",
            "zerolinecolor": "white"
           },
           "zaxis": {
            "backgroundcolor": "#E5ECF6",
            "gridcolor": "white",
            "gridwidth": 2,
            "linecolor": "white",
            "showbackground": true,
            "ticks": "",
            "zerolinecolor": "white"
           }
          },
          "shapedefaults": {
           "line": {
            "color": "#2a3f5f"
           }
          },
          "ternary": {
           "aaxis": {
            "gridcolor": "white",
            "linecolor": "white",
            "ticks": ""
           },
           "baxis": {
            "gridcolor": "white",
            "linecolor": "white",
            "ticks": ""
           },
           "bgcolor": "#E5ECF6",
           "caxis": {
            "gridcolor": "white",
            "linecolor": "white",
            "ticks": ""
           }
          },
          "title": {
           "x": 0.05
          },
          "xaxis": {
           "automargin": true,
           "gridcolor": "white",
           "linecolor": "white",
           "ticks": "",
           "title": {
            "standoff": 15
           },
           "zerolinecolor": "white",
           "zerolinewidth": 2
          },
          "yaxis": {
           "automargin": true,
           "gridcolor": "white",
           "linecolor": "white",
           "ticks": "",
           "title": {
            "standoff": 15
           },
           "zerolinecolor": "white",
           "zerolinewidth": 2
          }
         }
        },
        "title": {
         "text": "Plotly highlight example"
        },
        "xaxis": {
         "showgrid": false,
         "title": {
          "text": "Date"
         }
        },
        "yaxis": {
         "showgrid": true,
         "title": {
          "text": "Values"
         }
        }
       }
      },
      "text/html": [
       "<div>                            <div id=\"d8085e0e-ce03-4070-be4f-d249d1e31357\" class=\"plotly-graph-div\" style=\"height:525px; width:100%;\"></div>            <script type=\"text/javascript\">                require([\"plotly\"], function(Plotly) {                    window.PLOTLYENV=window.PLOTLYENV || {};                                    if (document.getElementById(\"d8085e0e-ce03-4070-be4f-d249d1e31357\")) {                    Plotly.newPlot(                        \"d8085e0e-ce03-4070-be4f-d249d1e31357\",                        [{\"name\": \"A\", \"text\": [\"acceleration\", \"start\", \"braking\", \"stop\", \"acceleration\", \"acceleration\", \"stop\", \"start\", \"acceleration\", \"stop\", \"acceleration\", \"stop\", \"acceleration\", \"acceleration\", \"stop\", \"stop\", \"braking\", \"braking\", \"acceleration\", \"stop\"], \"type\": \"scatter\", \"x\": [\"2020-01-02T00:00:00\", \"2020-01-08T00:00:00\", \"2020-01-14T00:00:00\", \"2020-01-21T00:00:00\", \"2020-02-06T00:00:00\", \"2020-04-12T00:00:00\", \"2020-04-15T00:00:00\", \"2020-04-21T00:00:00\", \"2020-05-10T00:00:00\", \"2020-05-13T00:00:00\", \"2020-05-23T00:00:00\", \"2020-05-26T00:00:00\", \"2020-05-31T00:00:00\", \"2020-06-22T00:00:00\", \"2020-08-01T00:00:00\", \"2020-08-20T00:00:00\", \"2020-09-15T00:00:00\", \"2020-10-30T00:00:00\", \"2020-12-13T00:00:00\", \"2020-12-28T00:00:00\"], \"y\": [11, 1, 7, 16, 2, 10, 18, 12, 5, 2, 18, 0, 7, 0, 14, 2, 17, 5, 18, 19]}, {\"name\": \"B\", \"text\": [\"acceleration\", \"start\", \"braking\", \"stop\", \"acceleration\", \"acceleration\", \"stop\", \"start\", \"acceleration\", \"stop\", \"acceleration\", \"stop\", \"acceleration\", \"acceleration\", \"stop\", \"stop\", \"braking\", \"braking\", \"acceleration\", \"stop\"], \"type\": \"scatter\", \"x\": [\"2020-01-02T00:00:00\", \"2020-01-08T00:00:00\", \"2020-01-14T00:00:00\", \"2020-01-21T00:00:00\", \"2020-02-06T00:00:00\", \"2020-04-12T00:00:00\", \"2020-04-15T00:00:00\", \"2020-04-21T00:00:00\", \"2020-05-10T00:00:00\", \"2020-05-13T00:00:00\", \"2020-05-23T00:00:00\", \"2020-05-26T00:00:00\", \"2020-05-31T00:00:00\", \"2020-06-22T00:00:00\", \"2020-08-01T00:00:00\", \"2020-08-20T00:00:00\", \"2020-09-15T00:00:00\", \"2020-10-30T00:00:00\", \"2020-12-13T00:00:00\", \"2020-12-28T00:00:00\"], \"y\": [11, 19, 12, 6, 19, 13, 11, 17, 8, 13, 0, 5, 16, 5, 2, 4, 3, 17, 11, 5]}, {\"name\": \"C\", \"text\": [\"acceleration\", \"start\", \"braking\", \"stop\", \"acceleration\", \"acceleration\", \"stop\", \"start\", \"acceleration\", \"stop\", \"acceleration\", \"stop\", \"acceleration\", \"acceleration\", \"stop\", \"stop\", \"braking\", \"braking\", \"acceleration\", \"stop\"], \"type\": \"scatter\", \"x\": [\"2020-01-02T00:00:00\", \"2020-01-08T00:00:00\", \"2020-01-14T00:00:00\", \"2020-01-21T00:00:00\", \"2020-02-06T00:00:00\", \"2020-04-12T00:00:00\", \"2020-04-15T00:00:00\", \"2020-04-21T00:00:00\", \"2020-05-10T00:00:00\", \"2020-05-13T00:00:00\", \"2020-05-23T00:00:00\", \"2020-05-26T00:00:00\", \"2020-05-31T00:00:00\", \"2020-06-22T00:00:00\", \"2020-08-01T00:00:00\", \"2020-08-20T00:00:00\", \"2020-09-15T00:00:00\", \"2020-10-30T00:00:00\", \"2020-12-13T00:00:00\", \"2020-12-28T00:00:00\"], \"y\": [13, 9, 17, 1, 6, 7, 18, 19, 19, 17, 16, 2, 11, 13, 4, 7, 8, 7, 11, 7]}, {\"name\": \"D\", \"text\": [\"acceleration\", \"start\", \"braking\", \"stop\", \"acceleration\", \"acceleration\", \"stop\", \"start\", \"acceleration\", \"stop\", \"acceleration\", \"stop\", \"acceleration\", \"acceleration\", \"stop\", \"stop\", \"braking\", \"braking\", \"acceleration\", \"stop\"], \"type\": \"scatter\", \"x\": [\"2020-01-02T00:00:00\", \"2020-01-08T00:00:00\", \"2020-01-14T00:00:00\", \"2020-01-21T00:00:00\", \"2020-02-06T00:00:00\", \"2020-04-12T00:00:00\", \"2020-04-15T00:00:00\", \"2020-04-21T00:00:00\", \"2020-05-10T00:00:00\", \"2020-05-13T00:00:00\", \"2020-05-23T00:00:00\", \"2020-05-26T00:00:00\", \"2020-05-31T00:00:00\", \"2020-06-22T00:00:00\", \"2020-08-01T00:00:00\", \"2020-08-20T00:00:00\", \"2020-09-15T00:00:00\", \"2020-10-30T00:00:00\", \"2020-12-13T00:00:00\", \"2020-12-28T00:00:00\"], \"y\": [2, 11, 6, 2, 17, 4, 9, 9, 1, 16, 3, 1, 1, 12, 0, 0, 18, 19, 4, 4]}],                        {\"shapes\": [{\"fillcolor\": \"#08ff00\", \"layer\": \"below\", \"line\": {\"width\": 0}, \"opacity\": 0.2, \"type\": \"rect\", \"x0\": \"2020-01-02T00:00:00\", \"x1\": \"2020-01-08T00:00:00\", \"xref\": \"x\", \"y0\": 0, \"y1\": 1, \"yref\": \"y domain\"}, {\"fillcolor\": \"#2593ff\", \"layer\": \"below\", \"line\": {\"width\": 0}, \"opacity\": 0.2, \"type\": \"rect\", \"x0\": \"2020-01-08T00:00:00\", \"x1\": \"2020-01-14T00:00:00\", \"xref\": \"x\", \"y0\": 0, \"y1\": 1, \"yref\": \"y domain\"}, {\"fillcolor\": \"#f8432d\", \"layer\": \"below\", \"line\": {\"width\": 0}, \"opacity\": 0.2, \"type\": \"rect\", \"x0\": \"2020-01-14T00:00:00\", \"x1\": \"2020-01-21T00:00:00\", \"xref\": \"x\", \"y0\": 0, \"y1\": 1, \"yref\": \"y domain\"}, {\"fillcolor\": \"#fc6990\", \"layer\": \"below\", \"line\": {\"width\": 0}, \"opacity\": 0.2, \"type\": \"rect\", \"x0\": \"2020-01-21T00:00:00\", \"x1\": \"2020-02-06T00:00:00\", \"xref\": \"x\", \"y0\": 0, \"y1\": 1, \"yref\": \"y domain\"}, {\"fillcolor\": \"#08ff00\", \"layer\": \"below\", \"line\": {\"width\": 0}, \"opacity\": 0.2, \"type\": \"rect\", \"x0\": \"2020-02-06T00:00:00\", \"x1\": \"2020-04-15T00:00:00\", \"xref\": \"x\", \"y0\": 0, \"y1\": 1, \"yref\": \"y domain\"}, {\"fillcolor\": \"#fc6990\", \"layer\": \"below\", \"line\": {\"width\": 0}, \"opacity\": 0.2, \"type\": \"rect\", \"x0\": \"2020-04-15T00:00:00\", \"x1\": \"2020-04-21T00:00:00\", \"xref\": \"x\", \"y0\": 0, \"y1\": 1, \"yref\": \"y domain\"}, {\"fillcolor\": \"#2593ff\", \"layer\": \"below\", \"line\": {\"width\": 0}, \"opacity\": 0.2, \"type\": \"rect\", \"x0\": \"2020-04-21T00:00:00\", \"x1\": \"2020-05-10T00:00:00\", \"xref\": \"x\", \"y0\": 0, \"y1\": 1, \"yref\": \"y domain\"}, {\"fillcolor\": \"#08ff00\", \"layer\": \"below\", \"line\": {\"width\": 0}, \"opacity\": 0.2, \"type\": \"rect\", \"x0\": \"2020-05-10T00:00:00\", \"x1\": \"2020-05-13T00:00:00\", \"xref\": \"x\", \"y0\": 0, \"y1\": 1, \"yref\": \"y domain\"}, {\"fillcolor\": \"#fc6990\", \"layer\": \"below\", \"line\": {\"width\": 0}, \"opacity\": 0.2, \"type\": \"rect\", \"x0\": \"2020-05-13T00:00:00\", \"x1\": \"2020-05-23T00:00:00\", \"xref\": \"x\", \"y0\": 0, \"y1\": 1, \"yref\": \"y domain\"}, {\"fillcolor\": \"#08ff00\", \"layer\": \"below\", \"line\": {\"width\": 0}, \"opacity\": 0.2, \"type\": \"rect\", \"x0\": \"2020-05-23T00:00:00\", \"x1\": \"2020-05-26T00:00:00\", \"xref\": \"x\", \"y0\": 0, \"y1\": 1, \"yref\": \"y domain\"}, {\"fillcolor\": \"#fc6990\", \"layer\": \"below\", \"line\": {\"width\": 0}, \"opacity\": 0.2, \"type\": \"rect\", \"x0\": \"2020-05-26T00:00:00\", \"x1\": \"2020-05-31T00:00:00\", \"xref\": \"x\", \"y0\": 0, \"y1\": 1, \"yref\": \"y domain\"}, {\"fillcolor\": \"#08ff00\", \"layer\": \"below\", \"line\": {\"width\": 0}, \"opacity\": 0.2, \"type\": \"rect\", \"x0\": \"2020-05-31T00:00:00\", \"x1\": \"2020-08-01T00:00:00\", \"xref\": \"x\", \"y0\": 0, \"y1\": 1, \"yref\": \"y domain\"}, {\"fillcolor\": \"#fc6990\", \"layer\": \"below\", \"line\": {\"width\": 0}, \"opacity\": 0.2, \"type\": \"rect\", \"x0\": \"2020-08-01T00:00:00\", \"x1\": \"2020-09-15T00:00:00\", \"xref\": \"x\", \"y0\": 0, \"y1\": 1, \"yref\": \"y domain\"}, {\"fillcolor\": \"#f8432d\", \"layer\": \"below\", \"line\": {\"width\": 0}, \"opacity\": 0.2, \"type\": \"rect\", \"x0\": \"2020-09-15T00:00:00\", \"x1\": \"2020-12-13T00:00:00\", \"xref\": \"x\", \"y0\": 0, \"y1\": 1, \"yref\": \"y domain\"}, {\"fillcolor\": \"#08ff00\", \"layer\": \"below\", \"line\": {\"width\": 0}, \"opacity\": 0.2, \"type\": \"rect\", \"x0\": \"2020-12-13T00:00:00\", \"x1\": \"2020-12-28T00:00:00\", \"xref\": \"x\", \"y0\": 0, \"y1\": 1, \"yref\": \"y domain\"}, {\"fillcolor\": \"#fc6990\", \"layer\": \"below\", \"line\": {\"width\": 0}, \"opacity\": 0.2, \"type\": \"rect\", \"x0\": \"2020-12-28T00:00:00\", \"x1\": \"2020-12-28T00:00:00\", \"xref\": \"x\", \"y0\": 0, \"y1\": 1, \"yref\": \"y domain\"}], \"template\": {\"data\": {\"bar\": [{\"error_x\": {\"color\": \"#2a3f5f\"}, \"error_y\": {\"color\": \"#2a3f5f\"}, \"marker\": {\"line\": {\"color\": \"#E5ECF6\", \"width\": 0.5}}, \"type\": \"bar\"}], \"barpolar\": [{\"marker\": {\"line\": {\"color\": \"#E5ECF6\", \"width\": 0.5}}, \"type\": \"barpolar\"}], \"carpet\": [{\"aaxis\": {\"endlinecolor\": \"#2a3f5f\", \"gridcolor\": \"white\", \"linecolor\": \"white\", \"minorgridcolor\": \"white\", \"startlinecolor\": \"#2a3f5f\"}, \"baxis\": {\"endlinecolor\": \"#2a3f5f\", \"gridcolor\": \"white\", \"linecolor\": \"white\", \"minorgridcolor\": \"white\", \"startlinecolor\": \"#2a3f5f\"}, \"type\": \"carpet\"}], \"choropleth\": [{\"colorbar\": {\"outlinewidth\": 0, \"ticks\": \"\"}, \"type\": \"choropleth\"}], \"contour\": [{\"colorbar\": {\"outlinewidth\": 0, \"ticks\": \"\"}, \"colorscale\": [[0.0, \"#0d0887\"], [0.1111111111111111, \"#46039f\"], [0.2222222222222222, \"#7201a8\"], [0.3333333333333333, \"#9c179e\"], [0.4444444444444444, \"#bd3786\"], [0.5555555555555556, \"#d8576b\"], [0.6666666666666666, \"#ed7953\"], [0.7777777777777778, \"#fb9f3a\"], [0.8888888888888888, \"#fdca26\"], [1.0, \"#f0f921\"]], \"type\": \"contour\"}], \"contourcarpet\": [{\"colorbar\": {\"outlinewidth\": 0, \"ticks\": \"\"}, \"type\": \"contourcarpet\"}], \"heatmap\": [{\"colorbar\": {\"outlinewidth\": 0, \"ticks\": \"\"}, \"colorscale\": [[0.0, \"#0d0887\"], [0.1111111111111111, \"#46039f\"], [0.2222222222222222, \"#7201a8\"], [0.3333333333333333, \"#9c179e\"], [0.4444444444444444, \"#bd3786\"], [0.5555555555555556, \"#d8576b\"], [0.6666666666666666, \"#ed7953\"], [0.7777777777777778, \"#fb9f3a\"], [0.8888888888888888, \"#fdca26\"], [1.0, \"#f0f921\"]], \"type\": \"heatmap\"}], \"heatmapgl\": [{\"colorbar\": {\"outlinewidth\": 0, \"ticks\": \"\"}, \"colorscale\": [[0.0, \"#0d0887\"], [0.1111111111111111, \"#46039f\"], [0.2222222222222222, \"#7201a8\"], [0.3333333333333333, \"#9c179e\"], [0.4444444444444444, \"#bd3786\"], [0.5555555555555556, \"#d8576b\"], [0.6666666666666666, \"#ed7953\"], [0.7777777777777778, \"#fb9f3a\"], [0.8888888888888888, \"#fdca26\"], [1.0, \"#f0f921\"]], \"type\": \"heatmapgl\"}], \"histogram\": [{\"marker\": {\"colorbar\": {\"outlinewidth\": 0, \"ticks\": \"\"}}, \"type\": \"histogram\"}], \"histogram2d\": [{\"colorbar\": {\"outlinewidth\": 0, \"ticks\": \"\"}, \"colorscale\": [[0.0, \"#0d0887\"], [0.1111111111111111, \"#46039f\"], [0.2222222222222222, \"#7201a8\"], [0.3333333333333333, \"#9c179e\"], [0.4444444444444444, \"#bd3786\"], [0.5555555555555556, \"#d8576b\"], [0.6666666666666666, \"#ed7953\"], [0.7777777777777778, \"#fb9f3a\"], [0.8888888888888888, \"#fdca26\"], [1.0, \"#f0f921\"]], \"type\": \"histogram2d\"}], \"histogram2dcontour\": [{\"colorbar\": {\"outlinewidth\": 0, \"ticks\": \"\"}, \"colorscale\": [[0.0, \"#0d0887\"], [0.1111111111111111, \"#46039f\"], [0.2222222222222222, \"#7201a8\"], [0.3333333333333333, \"#9c179e\"], [0.4444444444444444, \"#bd3786\"], [0.5555555555555556, \"#d8576b\"], [0.6666666666666666, \"#ed7953\"], [0.7777777777777778, \"#fb9f3a\"], [0.8888888888888888, \"#fdca26\"], [1.0, \"#f0f921\"]], \"type\": \"histogram2dcontour\"}], \"mesh3d\": [{\"colorbar\": {\"outlinewidth\": 0, \"ticks\": \"\"}, \"type\": \"mesh3d\"}], \"parcoords\": [{\"line\": {\"colorbar\": {\"outlinewidth\": 0, \"ticks\": \"\"}}, \"type\": \"parcoords\"}], \"pie\": [{\"automargin\": true, \"type\": \"pie\"}], \"scatter\": [{\"marker\": {\"colorbar\": {\"outlinewidth\": 0, \"ticks\": \"\"}}, \"type\": \"scatter\"}], \"scatter3d\": [{\"line\": {\"colorbar\": {\"outlinewidth\": 0, \"ticks\": \"\"}}, \"marker\": {\"colorbar\": {\"outlinewidth\": 0, \"ticks\": \"\"}}, \"type\": \"scatter3d\"}], \"scattercarpet\": [{\"marker\": {\"colorbar\": {\"outlinewidth\": 0, \"ticks\": \"\"}}, \"type\": \"scattercarpet\"}], \"scattergeo\": [{\"marker\": {\"colorbar\": {\"outlinewidth\": 0, \"ticks\": \"\"}}, \"type\": \"scattergeo\"}], \"scattergl\": [{\"marker\": {\"colorbar\": {\"outlinewidth\": 0, \"ticks\": \"\"}}, \"type\": \"scattergl\"}], \"scattermapbox\": [{\"marker\": {\"colorbar\": {\"outlinewidth\": 0, \"ticks\": \"\"}}, \"type\": \"scattermapbox\"}], \"scatterpolar\": [{\"marker\": {\"colorbar\": {\"outlinewidth\": 0, \"ticks\": \"\"}}, \"type\": \"scatterpolar\"}], \"scatterpolargl\": [{\"marker\": {\"colorbar\": {\"outlinewidth\": 0, \"ticks\": \"\"}}, \"type\": \"scatterpolargl\"}], \"scatterternary\": [{\"marker\": {\"colorbar\": {\"outlinewidth\": 0, \"ticks\": \"\"}}, \"type\": \"scatterternary\"}], \"surface\": [{\"colorbar\": {\"outlinewidth\": 0, \"ticks\": \"\"}, \"colorscale\": [[0.0, \"#0d0887\"], [0.1111111111111111, \"#46039f\"], [0.2222222222222222, \"#7201a8\"], [0.3333333333333333, \"#9c179e\"], [0.4444444444444444, \"#bd3786\"], [0.5555555555555556, \"#d8576b\"], [0.6666666666666666, \"#ed7953\"], [0.7777777777777778, \"#fb9f3a\"], [0.8888888888888888, \"#fdca26\"], [1.0, \"#f0f921\"]], \"type\": \"surface\"}], \"table\": [{\"cells\": {\"fill\": {\"color\": \"#EBF0F8\"}, \"line\": {\"color\": \"white\"}}, \"header\": {\"fill\": {\"color\": \"#C8D4E3\"}, \"line\": {\"color\": \"white\"}}, \"type\": \"table\"}]}, \"layout\": {\"annotationdefaults\": {\"arrowcolor\": \"#2a3f5f\", \"arrowhead\": 0, \"arrowwidth\": 1}, \"coloraxis\": {\"colorbar\": {\"outlinewidth\": 0, \"ticks\": \"\"}}, \"colorscale\": {\"diverging\": [[0, \"#8e0152\"], [0.1, \"#c51b7d\"], [0.2, \"#de77ae\"], [0.3, \"#f1b6da\"], [0.4, \"#fde0ef\"], [0.5, \"#f7f7f7\"], [0.6, \"#e6f5d0\"], [0.7, \"#b8e186\"], [0.8, \"#7fbc41\"], [0.9, \"#4d9221\"], [1, \"#276419\"]], \"sequential\": [[0.0, \"#0d0887\"], [0.1111111111111111, \"#46039f\"], [0.2222222222222222, \"#7201a8\"], [0.3333333333333333, \"#9c179e\"], [0.4444444444444444, \"#bd3786\"], [0.5555555555555556, \"#d8576b\"], [0.6666666666666666, \"#ed7953\"], [0.7777777777777778, \"#fb9f3a\"], [0.8888888888888888, \"#fdca26\"], [1.0, \"#f0f921\"]], \"sequentialminus\": [[0.0, \"#0d0887\"], [0.1111111111111111, \"#46039f\"], [0.2222222222222222, \"#7201a8\"], [0.3333333333333333, \"#9c179e\"], [0.4444444444444444, \"#bd3786\"], [0.5555555555555556, \"#d8576b\"], [0.6666666666666666, \"#ed7953\"], [0.7777777777777778, \"#fb9f3a\"], [0.8888888888888888, \"#fdca26\"], [1.0, \"#f0f921\"]]}, \"colorway\": [\"#636efa\", \"#EF553B\", \"#00cc96\", \"#ab63fa\", \"#FFA15A\", \"#19d3f3\", \"#FF6692\", \"#B6E880\", \"#FF97FF\", \"#FECB52\"], \"font\": {\"color\": \"#2a3f5f\"}, \"geo\": {\"bgcolor\": \"white\", \"lakecolor\": \"white\", \"landcolor\": \"#E5ECF6\", \"showlakes\": true, \"showland\": true, \"subunitcolor\": \"white\"}, \"hoverlabel\": {\"align\": \"left\"}, \"hovermode\": \"closest\", \"mapbox\": {\"style\": \"light\"}, \"paper_bgcolor\": \"white\", \"plot_bgcolor\": \"#E5ECF6\", \"polar\": {\"angularaxis\": {\"gridcolor\": \"white\", \"linecolor\": \"white\", \"ticks\": \"\"}, \"bgcolor\": \"#E5ECF6\", \"radialaxis\": {\"gridcolor\": \"white\", \"linecolor\": \"white\", \"ticks\": \"\"}}, \"scene\": {\"xaxis\": {\"backgroundcolor\": \"#E5ECF6\", \"gridcolor\": \"white\", \"gridwidth\": 2, \"linecolor\": \"white\", \"showbackground\": true, \"ticks\": \"\", \"zerolinecolor\": \"white\"}, \"yaxis\": {\"backgroundcolor\": \"#E5ECF6\", \"gridcolor\": \"white\", \"gridwidth\": 2, \"linecolor\": \"white\", \"showbackground\": true, \"ticks\": \"\", \"zerolinecolor\": \"white\"}, \"zaxis\": {\"backgroundcolor\": \"#E5ECF6\", \"gridcolor\": \"white\", \"gridwidth\": 2, \"linecolor\": \"white\", \"showbackground\": true, \"ticks\": \"\", \"zerolinecolor\": \"white\"}}, \"shapedefaults\": {\"line\": {\"color\": \"#2a3f5f\"}}, \"ternary\": {\"aaxis\": {\"gridcolor\": \"white\", \"linecolor\": \"white\", \"ticks\": \"\"}, \"baxis\": {\"gridcolor\": \"white\", \"linecolor\": \"white\", \"ticks\": \"\"}, \"bgcolor\": \"#E5ECF6\", \"caxis\": {\"gridcolor\": \"white\", \"linecolor\": \"white\", \"ticks\": \"\"}}, \"title\": {\"x\": 0.05}, \"xaxis\": {\"automargin\": true, \"gridcolor\": \"white\", \"linecolor\": \"white\", \"ticks\": \"\", \"title\": {\"standoff\": 15}, \"zerolinecolor\": \"white\", \"zerolinewidth\": 2}, \"yaxis\": {\"automargin\": true, \"gridcolor\": \"white\", \"linecolor\": \"white\", \"ticks\": \"\", \"title\": {\"standoff\": 15}, \"zerolinecolor\": \"white\", \"zerolinewidth\": 2}}}, \"title\": {\"text\": \"Plotly highlight example\"}, \"xaxis\": {\"showgrid\": false, \"title\": {\"text\": \"Date\"}}, \"yaxis\": {\"showgrid\": true, \"title\": {\"text\": \"Values\"}}},                        {\"responsive\": true}                    ).then(function(){\n",
       "                            \n",
       "var gd = document.getElementById('d8085e0e-ce03-4070-be4f-d249d1e31357');\n",
       "var x = new MutationObserver(function (mutations, observer) {{\n",
       "        var display = window.getComputedStyle(gd).display;\n",
       "        if (!display || display === 'none') {{\n",
       "            console.log([gd, 'removed!']);\n",
       "            Plotly.purge(gd);\n",
       "            observer.disconnect();\n",
       "        }}\n",
       "}});\n",
       "\n",
       "// Listen for the removal of the full notebook cells\n",
       "var notebookContainer = gd.closest('#notebook-container');\n",
       "if (notebookContainer) {{\n",
       "    x.observe(notebookContainer, {childList: true});\n",
       "}}\n",
       "\n",
       "// Listen for the clearing of the current output cell\n",
       "var outputEl = gd.closest('.output');\n",
       "if (outputEl) {{\n",
       "    x.observe(outputEl, {childList: true});\n",
       "}}\n",
       "\n",
       "                        })                };                });            </script>        </div>"
      ]
     },
     "metadata": {},
     "output_type": "display_data"
    }
   ],
   "source": [
    "fig = go.Figure(data=[\n",
    "      go.Scatter(x=df['date'], y=df['A'], name=\"A\", text=df[\"even_type\"]),\n",
    "      go.Scatter(x=df['date'], y=df['B'], name=\"B\",text=df[\"even_type\"]),\n",
    "      go.Scatter(x=df['date'], y=df['C'], name=\"C\",text=df[\"even_type\"]),\n",
    "      go.Scatter(x=df['date'], y=df['D'], name=\"D\",text=df[\"even_type\"])\n",
    "])\n",
    "\n",
    "# Highlight areas according to the even_type\n",
    "current = ''\n",
    "changes = []\n",
    "\n",
    "for ind in df.index:\n",
    "    if current != df['even_type'][ind]:\n",
    "        current = df['even_type'][ind]\n",
    "        changes.append([df['date'][ind],df['even_type'][ind]])\n",
    "\n",
    "\n",
    "color_dict= {\n",
    "                'stop':'#fc6990',\n",
    "                'start':'#2593ff',\n",
    "                'acceleration':'#08ff00',\n",
    "                'braking':'#f8432d'}\n",
    "\n",
    "for i, val in enumerate(changes):\n",
    "    if (i+1) == len(changes):\n",
    "            changes_last_date = changes[-1][0]\n",
    "            changes_last_state = changes[-1][1]\n",
    "            last_date= df['date'].iloc[-1]\n",
    "            fig.add_vrect(\n",
    "                          x0=changes_last_date, x1=last_date,\n",
    "                          fillcolor=color_dict[changes_last_state], opacity=0.2,\n",
    "                          layer=\"below\", line_width=0)\n",
    "\n",
    "    else:\n",
    "          \n",
    "        if changes[i][1] =='start':\n",
    "            fig.add_vrect(\n",
    "                       x0=changes[i][0], x1=changes[i+1][0],\n",
    "                        fillcolor=color_dict['start'], opacity=0.2,\n",
    "                        layer=\"below\", line_width=0)\n",
    "\n",
    "        if changes[i][1] =='acceleration':\n",
    "            fig.add_vrect(\n",
    "                        x0=changes[i][0], x1=changes[i+1][0],\n",
    "                        fillcolor=color_dict['acceleration'], opacity=0.2,\n",
    "                        layer=\"below\", line_width=0)\n",
    "\n",
    "        if changes[i][1] =='stop':\n",
    "            fig.add_vrect(\n",
    "                        x0=changes[i][0], x1=changes[i+1][0],\n",
    "                        fillcolor=color_dict['stop'], opacity=0.2,\n",
    "                        layer=\"below\", line_width=0)\n",
    "\n",
    "        if changes[i][1] =='braking':\n",
    "            fig.add_vrect(\n",
    "                        x0=changes[i][0], x1=changes[i+1][0],\n",
    "                        fillcolor=color_dict['braking'], opacity=0.2,\n",
    "                        layer=\"below\", line_width=0)\n",
    "\n",
    "fig.update_layout(xaxis_title=\"Date\", yaxis_title=\"Values\", title='Plotly highlight example',xaxis = {'showgrid': False}, yaxis = {'showgrid': True})\n",
    "\n",
    "fig.show()"
   ]
  },
  {
   "cell_type": "code",
   "execution_count": null,
   "metadata": {},
   "outputs": [],
   "source": []
  }
 ],
 "metadata": {
  "kernelspec": {
   "display_name": "Python 3",
   "language": "python",
   "name": "python3"
  },
  "language_info": {
   "codemirror_mode": {
    "name": "ipython",
    "version": 3
   },
   "file_extension": ".py",
   "mimetype": "text/x-python",
   "name": "python",
   "nbconvert_exporter": "python",
   "pygments_lexer": "ipython3",
   "version": "3.7.6"
  }
 },
 "nbformat": 4,
 "nbformat_minor": 4
}
